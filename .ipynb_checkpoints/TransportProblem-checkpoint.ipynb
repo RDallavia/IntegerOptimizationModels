{
 "cells": [
  {
   "cell_type": "code",
   "execution_count": 1,
   "metadata": {},
   "outputs": [],
   "source": [
    "import pandas as pd\n",
    "import networkx as nx\n",
    "import matplotlib.pyplot as plt\n",
    "import itertools\n",
    "import copy"
   ]
  },
  {
   "cell_type": "code",
   "execution_count": 18,
   "metadata": {},
   "outputs": [],
   "source": [
    "G = nx.DiGraph()"
   ]
  },
  {
   "cell_type": "code",
   "execution_count": 31,
   "metadata": {},
   "outputs": [],
   "source": [
    "nodes = ['CLE', 'CHI', 'BOS', 'DFW', 'ATL', 'SFO', 'PHL']\n",
    "G.add_nodes_from(nodes)"
   ]
  },
  {
   "cell_type": "code",
   "execution_count": 20,
   "metadata": {},
   "outputs": [],
   "source": [
    "G.nodes['CLE']['output'] = 35\n",
    "G.nodes['CHI']['output'] = 50\n",
    "G.nodes['BOS']['output'] = 40\n",
    "G.nodes['DFW']['input'] = 45\n",
    "G.nodes['ATL']['input'] = 20\n",
    "G.nodes['SFO']['input'] = 30\n",
    "G.nodes['PHL']['input'] = 30"
   ]
  },
  {
   "cell_type": "code",
   "execution_count": 21,
   "metadata": {},
   "outputs": [],
   "source": [
    "G.add_weighted_edges_from([('CLE', 'DFW', {'cost':8}),('CLE', 'ATL', {'cost':6}), ('CLE', 'SFO', {'cost':10}), ('CLE', 'PHL', {'cost':9}), ('CHI', 'DFW', {'cost':9}), ('CHI', 'ATL', {'cost':12}), ('CHI', 'SFO', {'cost':13}), ('CHI', 'PHL', {'cost':7}), ('BOS', 'DFW', {'cost':14}), ('BOS', 'ATL', {'cost':9}), ('BOS', 'SFO', {'cost':16}), ('BOS', 'PHL', {'cost':5})])"
   ]
  },
  {
   "cell_type": "code",
   "execution_count": 39,
   "metadata": {},
   "outputs": [
    {
     "name": "stdout",
     "output_type": "stream",
     "text": [
      "['DFW', 'ATL', 'SFO', 'PHL']\n",
      "['DFW', 'ATL', 'SFO', 'PHL']\n",
      "['DFW', 'ATL', 'SFO', 'PHL']\n",
      "[]\n",
      "[]\n",
      "[]\n",
      "[]\n"
     ]
    }
   ],
   "source": [
    "for node in nodes:\n",
    "    print(list(G.neighbors(node)))"
   ]
  },
  {
   "cell_type": "code",
   "execution_count": 41,
   "metadata": {},
   "outputs": [
    {
     "name": "stdout",
     "output_type": "stream",
     "text": [
      "['DFW', 'ATL', 'SFO', 'PHL']\n",
      "['DFW', 'ATL', 'SFO', 'PHL']\n",
      "['DFW', 'ATL', 'SFO', 'PHL']\n",
      "[]\n",
      "[]\n",
      "[]\n",
      "[]\n"
     ]
    }
   ],
   "source": [
    "for node in nodes:\n",
    "    print(list(G.successors(node)))"
   ]
  }
 ],
 "metadata": {
  "kernelspec": {
   "display_name": "Python 3",
   "language": "python",
   "name": "python3"
  },
  "language_info": {
   "codemirror_mode": {
    "name": "ipython",
    "version": 3
   },
   "file_extension": ".py",
   "mimetype": "text/x-python",
   "name": "python",
   "nbconvert_exporter": "python",
   "pygments_lexer": "ipython3",
   "version": "3.6.8"
  }
 },
 "nbformat": 4,
 "nbformat_minor": 2
}
